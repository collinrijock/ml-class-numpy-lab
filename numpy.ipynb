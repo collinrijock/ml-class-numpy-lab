{
  "cells": [
    {
      "cell_type": "markdown",
      "metadata": {
        "id": "view-in-github",
        "colab_type": "text"
      },
      "source": [
        "<a href=\"https://colab.research.google.com/github/collinrijock/ml-class-numpy-lab/blob/main/numpy.ipynb\" target=\"_parent\"><img src=\"https://colab.research.google.com/assets/colab-badge.svg\" alt=\"Open In Colab\"/></a>"
      ]
    },
    {
      "cell_type": "markdown",
      "metadata": {
        "id": "WqIp1iiDEzod"
      },
      "source": [
        "#` Task 1: Getting started with NumPy\n",
        "\n",
        "![](https://raw.githubusercontent.com/zacharski/datamining-guide/master/labs/pics/numpy.png)\n",
        "\n",
        "## Task 1: Fundamentals\n",
        "\n",
        "Let's spend a few minutes just learning some of the fundamentals of NumPy. (pronounced as num-pie **not num-pee**) \n",
        "\n",
        "### what is NumPy\n",
        "NumPy is a Python library that support large, multi-dimensional arrays and matrices. \n",
        "\n",
        "Let's look at an example. Suppose we start with a little table:\n",
        "\n",
        "| a  | b | c  |  d | e |\n",
        "| :---: | :---: | :---: | :---: | :---: |\n",
        "| 0 | 1 | 2 | 3 | 4 |\n",
        "|10| 11| 12 | 13 | 14|\n",
        "|20| 21 | 22 | 23 | 24 |\n",
        "|30 | 31 | 32 | 33 | 34 |\n",
        "|40 |41 | 42 | 43 | 44 |\n",
        "\n",
        "and we simply want to add 10 to each cell:\n",
        "\n",
        "| a  | b | c  |  d | e |\n",
        "| :---: | :---: | :---: | :---: | :---: |\n",
        "| 10 | 11 | 12 | 13 | 14 |\n",
        "|20| 21| 22 | 23 | 24|\n",
        "|30| 31 | 32 | 33 | 34 |\n",
        "|40 | 41 | 42 | 43 | 44 |\n",
        "|50 |51 | 52 | 53 | 54 |\n",
        "\n",
        "\n",
        "\n",
        "First, let's construct it in generic Python"
      ]
    },
    {
      "cell_type": "code",
      "execution_count": 51,
      "metadata": {
        "colab": {
          "base_uri": "https://localhost:8080/"
        },
        "id": "4X_KY9CaEzoe",
        "outputId": "a2df615b-077f-464d-aadb-ed75e3e00b20"
      },
      "outputs": [
        {
          "output_type": "execute_result",
          "data": {
            "text/plain": [
              "[[0, 1, 2, 3, 4],\n",
              " [5, 6, 7, 8, 9],\n",
              " [10, 11, 12, 13, 14],\n",
              " [15, 16, 17, 18, 19],\n",
              " [20, 21, 22, 23, 24]]"
            ]
          },
          "metadata": {},
          "execution_count": 51
        }
      ],
      "source": [
        "a5 = [[x + y * 5 for x in range(5)] for y in range(5)]\n",
        "a5\n",
        "\n"
      ]
    },
    {
      "cell_type": "markdown",
      "metadata": {
        "id": "94i2KiF_H1gp"
      },
      "source": [
        "And suppose we have the magic function `addToA5(i)` that will add *i* to each cell in the array:\n",
        "\n",
        "```\n",
        "addToA5(10)\n",
        "A5\n",
        "```\n",
        "returns\n",
        "\n",
        "```\n",
        "[[10, 11, 12, 13, 14],\n",
        " [15, 16, 17, 18, 19],\n",
        " [20, 21, 22, 23, 24],\n",
        " [25, 26, 27, 28, 29],\n",
        " [30, 31, 32, 33, 34]]\n",
        " ```\n"
      ]
    },
    {
      "cell_type": "markdown",
      "metadata": {
        "id": "ygCpl5ohF5g-"
      },
      "source": [
        "To make things interesting, instead of a a 5 x5 array, let's make it 1,000 x 1,000 -- so 1 million cells!"
      ]
    },
    {
      "cell_type": "code",
      "execution_count": 52,
      "metadata": {
        "id": "eO9-33gbF5uN"
      },
      "outputs": [],
      "source": [
        "a = [[x + y * 1000 for x in range(1000)] for y in range(1000)]\n"
      ]
    },
    {
      "cell_type": "markdown",
      "metadata": {
        "id": "d3puxQBNEzof"
      },
      "source": [
        "![](https://raw.githubusercontent.com/zacharski/datamining-guide/master/labs/pics/torchdivide.png)\n",
        "\n",
        "\n",
        "# <font color='#EE4C2C'>You Try ...</font> \n",
        "Ok, time to get coding\n",
        "\n",
        "## <font color='#EE4C2C'>1. addToArray(i)</font> \n",
        "Can you write  a function `addToArr(10)` that will add 10 to each cell in our  1000x1000 matrix."
      ]
    },
    {
      "cell_type": "code",
      "execution_count": 53,
      "metadata": {
        "id": "PY6RX8WrEzof"
      },
      "outputs": [],
      "source": [
        "def addToArray(i,a):\n",
        "  for k in range(5):\n",
        "     for j in range(5):\n",
        "        a[j][k] += i\n"
      ]
    },
    {
      "cell_type": "markdown",
      "metadata": {
        "id": "sOF-73z2Ezof"
      },
      "source": [
        "Let's take a look at how much time it takes to run that function:"
      ]
    },
    {
      "cell_type": "code",
      "execution_count": 54,
      "metadata": {
        "colab": {
          "base_uri": "https://localhost:8080/"
        },
        "id": "1Z5AjlhyEzof",
        "outputId": "519bfdf7-2c47-468f-9eac-56da19ebe5e5"
      },
      "outputs": [
        {
          "output_type": "stream",
          "name": "stdout",
          "text": [
            "CPU times: user 19 µs, sys: 2 µs, total: 21 µs\n",
            "Wall time: 24.8 µs\n"
          ]
        }
      ],
      "source": [
        "%time addToArray(10,a)"
      ]
    },
    {
      "cell_type": "markdown",
      "metadata": {
        "id": "Cptrd_XzEzog"
      },
      "source": [
        "My results were:\n",
        "\n",
        "    CPU times: user 145 ms, sys: 0 ns, total: 145 ms\n",
        "    Wall time: 143 ms\n",
        "\n",
        "So about 1/7 of a second. \n",
        "\n",
        "![](https://raw.githubusercontent.com/zacharski/datamining-guide/master/labs/pics/numpySmall2.png)\n",
        "### Doing in using Numpy\n",
        "Now we will try the same using NumPy.\n",
        "\n",
        "\n",
        "We can construct the array using\n",
        "    \n",
        "    arr = np.arange(1000000).reshape((1000,1000))\n",
        "\n",
        "Not sure what that line does? NumPy has great online documentation. [Documentation for np.arange](https://numpy.org/doc/stable/reference/generated/numpy.arange.html) says it \"Return evenly spaced values within a given interval.\" Let's try it out:"
      ]
    },
    {
      "cell_type": "code",
      "execution_count": 55,
      "metadata": {
        "colab": {
          "base_uri": "https://localhost:8080/"
        },
        "id": "l3zp6Y2dEzog",
        "outputId": "4ad8e510-ec7f-4677-93f3-11d3abccde68"
      },
      "outputs": [
        {
          "output_type": "execute_result",
          "data": {
            "text/plain": [
              "array([ 0,  1,  2,  3,  4,  5,  6,  7,  8,  9, 10, 11, 12, 13, 14, 15])"
            ]
          },
          "metadata": {},
          "execution_count": 55
        }
      ],
      "source": [
        "import numpy as np\n",
        "np.arange(16)"
      ]
    },
    {
      "cell_type": "markdown",
      "metadata": {
        "id": "By7ufsRqEzog"
      },
      "source": [
        "So `np.arange(10)` creates a matrix of 16 sequential integers. [The documentation for reshape](https://numpy.org/doc/1.18/reference/generated/numpy.reshape.html) says, as the name suggests, \"Gives a new shape to an array without changing its data.\"  Suppose we want to reshape our 1 dimensional matrix of 16 integers to a 4x4 one. we can do:"
      ]
    },
    {
      "cell_type": "code",
      "execution_count": 56,
      "metadata": {
        "colab": {
          "base_uri": "https://localhost:8080/"
        },
        "id": "fd7FF6lrEzog",
        "outputId": "e2c8e7c4-3116-40c4-b6cc-47e2cff7495a"
      },
      "outputs": [
        {
          "output_type": "execute_result",
          "data": {
            "text/plain": [
              "array([[ 0,  1,  2,  3],\n",
              "       [ 4,  5,  6,  7],\n",
              "       [ 8,  9, 10, 11],\n",
              "       [12, 13, 14, 15]])"
            ]
          },
          "metadata": {},
          "execution_count": 56
        }
      ],
      "source": [
        "np.arange(16).reshape((4,4))"
      ]
    },
    {
      "cell_type": "markdown",
      "metadata": {
        "id": "m3AeTcM4Ezog"
      },
      "source": [
        "As you can see it is pretty easy to find documentation on Numpy.\n",
        "\n",
        "Back to our example of creating a 1000x1000 matrix, we now can time how long it takes to add 10 to each cell.\n",
        "\n",
        "    %time arr = arr + 10\n",
        "    \n",
        "Let's put this all together:"
      ]
    },
    {
      "cell_type": "code",
      "execution_count": 57,
      "metadata": {
        "colab": {
          "base_uri": "https://localhost:8080/"
        },
        "id": "uezL6bdwEzog",
        "outputId": "01f49da6-1d26-482f-c23d-b0c66b72010c"
      },
      "outputs": [
        {
          "output_type": "stream",
          "name": "stdout",
          "text": [
            "CPU times: user 3.4 ms, sys: 973 µs, total: 4.37 ms\n",
            "Wall time: 4.87 ms\n"
          ]
        }
      ],
      "source": [
        "import numpy as np\n",
        "arr = np.arange(1000000).reshape((1000,1000))\n",
        "%time arr = arr + 10"
      ]
    },
    {
      "cell_type": "markdown",
      "metadata": {
        "id": "BDP1xbHnEzog"
      },
      "source": [
        "My results were\n",
        "\n",
        "    CPU times: user 1.26 ms, sys: 408 µs, total: 1.67 ms\n",
        "    Wall time: 1.68 ms\n",
        "\n",
        "So, depending on your computer, somewhere around 25 to 100 times faster. **That is phenomenally faster!**. \n"
      ]
    },
    {
      "cell_type": "markdown",
      "metadata": {
        "id": "Iz4-PVEFEzoh"
      },
      "source": [
        "### built in functions\n",
        "In addition to being faster, NumPy has a wide range of built in functions. So, for example, instead of you writing code to calculate the mean or sum or standard deviation of a multidimensional array you can just use numpy:"
      ]
    },
    {
      "cell_type": "code",
      "execution_count": 58,
      "metadata": {
        "colab": {
          "base_uri": "https://localhost:8080/"
        },
        "id": "rS7U3aPhEzoh",
        "outputId": "02803e5a-b96d-459a-c94e-85e0a5beb1ea"
      },
      "outputs": [
        {
          "output_type": "execute_result",
          "data": {
            "text/plain": [
              "500009.5"
            ]
          },
          "metadata": {},
          "execution_count": 58
        }
      ],
      "source": [
        "arr.mean()"
      ]
    },
    {
      "cell_type": "code",
      "execution_count": 59,
      "metadata": {
        "colab": {
          "base_uri": "https://localhost:8080/"
        },
        "id": "X7mFmJ4REzoh",
        "outputId": "e7cb6cf4-b398-4911-f11c-da0003fb2d65"
      },
      "outputs": [
        {
          "output_type": "execute_result",
          "data": {
            "text/plain": [
              "500009500000"
            ]
          },
          "metadata": {},
          "execution_count": 59
        }
      ],
      "source": [
        "arr.sum()"
      ]
    },
    {
      "cell_type": "code",
      "execution_count": 60,
      "metadata": {
        "colab": {
          "base_uri": "https://localhost:8080/"
        },
        "id": "BkqaY-9KEzoh",
        "outputId": "ec0c1ad1-a75d-46d5-9afb-0ed82e620f91"
      },
      "outputs": [
        {
          "output_type": "execute_result",
          "data": {
            "text/plain": [
              "288675.1345946685"
            ]
          },
          "metadata": {},
          "execution_count": 60
        }
      ],
      "source": [
        " arr.std()"
      ]
    },
    {
      "cell_type": "markdown",
      "metadata": {
        "id": "57UPklwXEzoh"
      },
      "source": [
        "So not only is it faster, but NumPy minimizes the code you have to write. A win, win.\n",
        "\n",
        "Let's continue with some basics."
      ]
    },
    {
      "cell_type": "markdown",
      "metadata": {
        "id": "umsiIMGdEzoh"
      },
      "source": [
        "## NumPy examined \n",
        "So NumPy is a library containing a super-fast n-dimensional array object and a load of functions that can operate on those arrays. To use NumPy, we must first load the library into our code and we do that with the statement:\n"
      ]
    },
    {
      "cell_type": "code",
      "execution_count": 61,
      "metadata": {
        "id": "NZ0PuMReEzoh"
      },
      "outputs": [],
      "source": [
        " import numpy as np"
      ]
    },
    {
      "cell_type": "markdown",
      "metadata": {
        "id": "O1XeAsuNEzoh"
      },
      "source": [
        "Perhaps most of you are saying \"fine, fine, I know this already\", but let me catch others up to speed. This is just one of several ways we can load a library into Python. We could just say:"
      ]
    },
    {
      "cell_type": "code",
      "execution_count": 62,
      "metadata": {
        "id": "6WZ0b-ziEzoi"
      },
      "outputs": [],
      "source": [
        " import numpy"
      ]
    },
    {
      "cell_type": "markdown",
      "metadata": {
        "id": "a7JfDLjeEzoi"
      },
      "source": [
        "and everytime we need to use one of the functions built into NumPy we would need to preface that function with `numpy` . So for example, we could create an array with\n"
      ]
    },
    {
      "cell_type": "code",
      "execution_count": 63,
      "metadata": {
        "id": "oErl0l27Ezoi"
      },
      "outputs": [],
      "source": [
        "arr = numpy.array([1, 2, 3, 4, 5])"
      ]
    },
    {
      "cell_type": "markdown",
      "metadata": {
        "id": "PXiS0DQoEzoi"
      },
      "source": [
        "If we got tired of writing `numpy` in front of every function, instead of typing"
      ]
    },
    {
      "cell_type": "code",
      "execution_count": 64,
      "metadata": {
        "id": "YQqpT6M7Ezoi"
      },
      "outputs": [],
      "source": [
        "import numpy"
      ]
    },
    {
      "cell_type": "markdown",
      "metadata": {
        "id": "SyjCk5JoEzoi"
      },
      "source": [
        "we could write:"
      ]
    },
    {
      "cell_type": "code",
      "execution_count": 65,
      "metadata": {
        "id": "Y6C2MDGIEzoi"
      },
      "outputs": [],
      "source": [
        "from numpy import *"
      ]
    },
    {
      "cell_type": "markdown",
      "metadata": {
        "id": "s56z0_mQEzoi"
      },
      "source": [
        "(where that * means 'everything' and the whole expression means import everything from the NumPy library).  Now we can use any NumPy function without putting `numpy` in front of it:"
      ]
    },
    {
      "cell_type": "code",
      "execution_count": 66,
      "metadata": {
        "id": "frR4dxZkEzoi"
      },
      "outputs": [],
      "source": [
        "arr = array([1, 2, 3, 4, 5])"
      ]
    },
    {
      "cell_type": "markdown",
      "metadata": {
        "id": "9tSQnBugEzoi"
      },
      "source": [
        "This may at first seem like a good idea, but it is considered bad form by Python developers. \n",
        "\n",
        "The solution is to use what we initially introduced:"
      ]
    },
    {
      "cell_type": "code",
      "execution_count": 67,
      "metadata": {
        "id": "GYqMBrtDEzoi"
      },
      "outputs": [],
      "source": [
        " import numpy as np"
      ]
    },
    {
      "cell_type": "markdown",
      "metadata": {
        "id": "LksNM-0cEzoi"
      },
      "source": [
        "this makes `np` an alias for `numpy`. so now we would put *np* in front of numpy functions."
      ]
    },
    {
      "cell_type": "code",
      "execution_count": 68,
      "metadata": {
        "id": "kBmnY2ThEzoi"
      },
      "outputs": [],
      "source": [
        " arr = np.array([1, 2, 3, 4, 5])"
      ]
    },
    {
      "cell_type": "markdown",
      "metadata": {
        "id": "MckhLtRZEzoi"
      },
      "source": [
        "Of course we could use anything as an alias for `numpy`:"
      ]
    },
    {
      "cell_type": "code",
      "execution_count": 69,
      "metadata": {
        "id": "O745lABLEzoi"
      },
      "outputs": [],
      "source": [
        "import numpy as myCoolSneakers\n",
        "arr = myCoolSneakers.array([1, 2, 3, 4, 5])\n"
      ]
    },
    {
      "cell_type": "markdown",
      "metadata": {
        "id": "q59LN5V_Ezoi"
      },
      "source": [
        "But it is convention among data scientists, machine learning experts, and the cool kids to use `np`.  One big benefit of this convention is that it makes the code you write more understandable to others and vice versa (I don't need to be scouring your code to find out what `myCoolSneakers.array` does)\n",
        "\n",
        "## creating arrays\n",
        "\n",
        "An Array in NumPy is called an `ndarray` for n-dimensional array.  As we will see, they share some similarities with Python lists. We have already seen how to create one:"
      ]
    },
    {
      "cell_type": "code",
      "execution_count": 70,
      "metadata": {
        "id": "Ky7GJY-sEzoi"
      },
      "outputs": [],
      "source": [
        "arr = np.array([1, 2, 3, 4, 5])"
      ]
    },
    {
      "cell_type": "markdown",
      "metadata": {
        "id": "Ig3__G2fEzoi"
      },
      "source": [
        "and to display what `arr` equals"
      ]
    },
    {
      "cell_type": "code",
      "execution_count": 71,
      "metadata": {
        "id": "3DuNKiC7Ezoi",
        "outputId": "52b52931-4821-46bc-97e4-3820c9e9a106",
        "colab": {
          "base_uri": "https://localhost:8080/"
        }
      },
      "outputs": [
        {
          "output_type": "execute_result",
          "data": {
            "text/plain": [
              "array([1, 2, 3, 4, 5])"
            ]
          },
          "metadata": {},
          "execution_count": 71
        }
      ],
      "source": [
        "arr"
      ]
    },
    {
      "cell_type": "markdown",
      "metadata": {
        "id": "PDKxlPxLEzoi"
      },
      "source": [
        "This is a one dimensional array. The position of an element in the array is called the index. The first element of the array is at index 0, the next at index 1 and so on. We can get the item at a particular index by using the syntax:"
      ]
    },
    {
      "cell_type": "code",
      "execution_count": 72,
      "metadata": {
        "id": "HyK5547PEzoi",
        "outputId": "fb40b2ff-f101-4b3c-c625-cc59aa759ee2",
        "colab": {
          "base_uri": "https://localhost:8080/"
        }
      },
      "outputs": [
        {
          "output_type": "execute_result",
          "data": {
            "text/plain": [
              "1"
            ]
          },
          "metadata": {},
          "execution_count": 72
        }
      ],
      "source": [
        " arr[0]"
      ]
    },
    {
      "cell_type": "code",
      "execution_count": 73,
      "metadata": {
        "id": "y4CI-sRoEzoj",
        "outputId": "7427a0e0-df97-4716-c8fc-700cc7d9f8e2",
        "colab": {
          "base_uri": "https://localhost:8080/"
        }
      },
      "outputs": [
        {
          "output_type": "execute_result",
          "data": {
            "text/plain": [
              "4"
            ]
          },
          "metadata": {},
          "execution_count": 73
        }
      ],
      "source": [
        "arr[3]"
      ]
    },
    {
      "cell_type": "markdown",
      "metadata": {
        "id": "z1yJ1ktaEzoj"
      },
      "source": [
        "We can create a 2 dimensional array that looks like\n",
        "\n",
        "      10  20  30\n",
        "      40  50  60\n",
        " \n",
        "by:\n"
      ]
    },
    {
      "cell_type": "code",
      "execution_count": 74,
      "metadata": {
        "id": "u3tTM1_IEzoj"
      },
      "outputs": [],
      "source": [
        " arr = np.array([[10, 20, 30], [40, 50, 60]])"
      ]
    },
    {
      "cell_type": "markdown",
      "metadata": {
        "id": "uN9-b83pEzoj"
      },
      "source": [
        "and we can show the contents of that array just be using the name of the array, `arr`\n"
      ]
    },
    {
      "cell_type": "code",
      "execution_count": 75,
      "metadata": {
        "id": "1LmJkAbQEzoj",
        "outputId": "5499f356-ecbb-4f77-da86-0c6ef5f6b380",
        "colab": {
          "base_uri": "https://localhost:8080/"
        }
      },
      "outputs": [
        {
          "output_type": "execute_result",
          "data": {
            "text/plain": [
              "array([[10, 20, 30],\n",
              "       [40, 50, 60]])"
            ]
          },
          "metadata": {},
          "execution_count": 75
        }
      ],
      "source": [
        "arr"
      ]
    },
    {
      "cell_type": "markdown",
      "metadata": {
        "id": "gjxt_bTCEzoj"
      },
      "source": [
        "We don't need to name arrays `arr`, we can name them anything we want. "
      ]
    },
    {
      "cell_type": "code",
      "execution_count": 76,
      "metadata": {
        "id": "Wcr7ViBVEzoj"
      },
      "outputs": [],
      "source": [
        "ratings = np.array([[1, 2, 3], [4, 5, 6], [7, 8, 9]])"
      ]
    },
    {
      "cell_type": "code",
      "execution_count": 77,
      "metadata": {
        "id": "OJIxRvLREzoj",
        "outputId": "a82dfebf-67da-4627-d16f-615861503ec7",
        "colab": {
          "base_uri": "https://localhost:8080/"
        }
      },
      "outputs": [
        {
          "output_type": "execute_result",
          "data": {
            "text/plain": [
              "array([[1, 2, 3],\n",
              "       [4, 5, 6],\n",
              "       [7, 8, 9]])"
            ]
          },
          "metadata": {},
          "execution_count": 77
        }
      ],
      "source": [
        "ratings"
      ]
    },
    {
      "cell_type": "markdown",
      "metadata": {
        "id": "sQk3PTjNEzoj"
      },
      "source": [
        "So far, we've been creating numpy arrays by using Python lists. We can make that more explicit by first creating the Python list and then using it to create the ndarray:"
      ]
    },
    {
      "cell_type": "code",
      "execution_count": 78,
      "metadata": {
        "id": "f30f_r3mEzoj",
        "outputId": "cae4e765-486e-472a-8052-ed46ed96d756",
        "colab": {
          "base_uri": "https://localhost:8080/"
        }
      },
      "outputs": [
        {
          "output_type": "execute_result",
          "data": {
            "text/plain": [
              "array([[ 1,  2,  3,  4,  5],\n",
              "       [ 6,  7,  8,  9, 10]])"
            ]
          },
          "metadata": {},
          "execution_count": 78
        }
      ],
      "source": [
        "pythonArray = [[1, 2, 3, 4, 5], [6, 7, 8, 9, 10]]\n",
        "sweet = np.array(pythonArray)\n",
        "sweet"
      ]
    },
    {
      "cell_type": "markdown",
      "metadata": {
        "id": "lTI4O04yEzoj"
      },
      "source": [
        "We can also create an array of all zeros or all ones directly:"
      ]
    },
    {
      "cell_type": "code",
      "execution_count": 79,
      "metadata": {
        "id": "DS9MGlFsEzoj",
        "outputId": "9a9f4a4d-3b52-49e6-fb79-e900f94d8ee0",
        "colab": {
          "base_uri": "https://localhost:8080/"
        }
      },
      "outputs": [
        {
          "output_type": "execute_result",
          "data": {
            "text/plain": [
              "array([0., 0., 0., 0., 0., 0., 0., 0., 0., 0.])"
            ]
          },
          "metadata": {},
          "execution_count": 79
        }
      ],
      "source": [
        "np.zeros(10)"
      ]
    },
    {
      "cell_type": "code",
      "execution_count": 80,
      "metadata": {
        "id": "y2rHFjAnEzoj",
        "outputId": "1458a98c-17b2-4b51-baf7-114df87b8225",
        "colab": {
          "base_uri": "https://localhost:8080/"
        }
      },
      "outputs": [
        {
          "output_type": "execute_result",
          "data": {
            "text/plain": [
              "array([[1., 1.],\n",
              "       [1., 1.],\n",
              "       [1., 1.],\n",
              "       [1., 1.],\n",
              "       [1., 1.]])"
            ]
          },
          "metadata": {},
          "execution_count": 80
        }
      ],
      "source": [
        "np.ones((5, 2))"
      ]
    },
    {
      "cell_type": "markdown",
      "metadata": {
        "id": "6m6aHGieEzoj"
      },
      "source": [
        "### indexing\n",
        "Indexing elements in ndarrays works pretty much the same as it does in Python. We have already seen one example, here is another example with a one dimensional array:\n"
      ]
    },
    {
      "cell_type": "code",
      "execution_count": 81,
      "metadata": {
        "id": "fS2zDeIkEzoj",
        "outputId": "0ef70816-da1b-46f3-a49c-10a6d3e9ca6b",
        "colab": {
          "base_uri": "https://localhost:8080/"
        }
      },
      "outputs": [
        {
          "output_type": "execute_result",
          "data": {
            "text/plain": [
              "48"
            ]
          },
          "metadata": {},
          "execution_count": 81
        }
      ],
      "source": [
        "temperatures = np.array([48, 44, 37, 35, 32, 29, 33, 36, 42])\n",
        "temperatures[0]"
      ]
    },
    {
      "cell_type": "code",
      "execution_count": 82,
      "metadata": {
        "id": "diBYHKV5Ezoj",
        "outputId": "deecf6d9-fe43-461f-977a-ebf9920d80f3",
        "colab": {
          "base_uri": "https://localhost:8080/"
        }
      },
      "outputs": [
        {
          "output_type": "execute_result",
          "data": {
            "text/plain": [
              "35"
            ]
          },
          "metadata": {},
          "execution_count": 82
        }
      ],
      "source": [
        "temperatures[3]"
      ]
    },
    {
      "cell_type": "markdown",
      "metadata": {
        "id": "SKG_mRmjEzoj"
      },
      "source": [
        "and a two dimensional one:"
      ]
    },
    {
      "cell_type": "code",
      "execution_count": 83,
      "metadata": {
        "id": "igsNn0feEzoj",
        "outputId": "ad73c2d4-05d8-4466-9aa6-3038286117fa",
        "colab": {
          "base_uri": "https://localhost:8080/"
        }
      },
      "outputs": [
        {
          "output_type": "execute_result",
          "data": {
            "text/plain": [
              "20"
            ]
          },
          "metadata": {},
          "execution_count": 83
        }
      ],
      "source": [
        "sample = np.array([[10, 20, 30], [40, 50, 60]])\n",
        "sample[0][1]"
      ]
    },
    {
      "cell_type": "markdown",
      "metadata": {
        "id": "msSSxHQVEzoj"
      },
      "source": [
        "For numpy ndarrays we can also use a comma to separate the indices of multi-dimensional arrays:"
      ]
    },
    {
      "cell_type": "code",
      "execution_count": 84,
      "metadata": {
        "id": "SOkMiqMtEzoj",
        "outputId": "d45f28c0-40fe-4902-e90f-fe5fa3966865",
        "colab": {
          "base_uri": "https://localhost:8080/"
        }
      },
      "outputs": [
        {
          "output_type": "execute_result",
          "data": {
            "text/plain": [
              "60"
            ]
          },
          "metadata": {},
          "execution_count": 84
        }
      ],
      "source": [
        "sample[1,2]"
      ]
    },
    {
      "cell_type": "markdown",
      "metadata": {
        "id": "zUmH0fQYEzok"
      },
      "source": [
        "And, like Python you can also get a slice of an array. First, here is the basic Python example:"
      ]
    },
    {
      "cell_type": "code",
      "execution_count": 85,
      "metadata": {
        "id": "GxgSEjSREzok",
        "outputId": "866b1b76-bfa1-4b40-9787-959857ff2a78",
        "colab": {
          "base_uri": "https://localhost:8080/"
        }
      },
      "outputs": [
        {
          "output_type": "execute_result",
          "data": {
            "text/plain": [
              "[20, 30, 40]"
            ]
          },
          "metadata": {},
          "execution_count": 85
        }
      ],
      "source": [
        "a = [10, 20, 30, 40, 50, 60]\n",
        "b = a[1:4]\n",
        "b"
      ]
    },
    {
      "cell_type": "markdown",
      "metadata": {
        "id": "_qsZG_1kEzok"
      },
      "source": [
        "and the similar NumPy example:"
      ]
    },
    {
      "cell_type": "code",
      "execution_count": 86,
      "metadata": {
        "id": "A7731YZhEzok",
        "outputId": "e159c462-f834-4889-e29c-b2f0cac2e8bb",
        "colab": {
          "base_uri": "https://localhost:8080/"
        }
      },
      "outputs": [
        {
          "output_type": "execute_result",
          "data": {
            "text/plain": [
              "array([20, 30, 40])"
            ]
          },
          "metadata": {},
          "execution_count": 86
        }
      ],
      "source": [
        "aarr = np.array(a)\n",
        "barr = aarr[1:4]\n",
        "barr"
      ]
    },
    {
      "cell_type": "markdown",
      "metadata": {
        "id": "9_6DDzmNEzok"
      },
      "source": [
        "### Something  wacky to remember\n",
        "But there is a difference between Python arrays and numpy ndarrays. If I alter the array `b` in Python, the orginal `a` array is not altered:"
      ]
    },
    {
      "cell_type": "code",
      "execution_count": 87,
      "metadata": {
        "id": "GxvDBtB-Ezok"
      },
      "outputs": [],
      "source": [
        "b[1] = b[1] + 5"
      ]
    },
    {
      "cell_type": "code",
      "execution_count": 88,
      "metadata": {
        "id": "r-tDVluWEzok",
        "outputId": "30d355a5-da20-4f76-e0de-f445139cb156",
        "colab": {
          "base_uri": "https://localhost:8080/"
        }
      },
      "outputs": [
        {
          "output_type": "execute_result",
          "data": {
            "text/plain": [
              "[20, 35, 40]"
            ]
          },
          "metadata": {},
          "execution_count": 88
        }
      ],
      "source": [
        "b"
      ]
    },
    {
      "cell_type": "code",
      "execution_count": 89,
      "metadata": {
        "id": "J9xeTYc-Ezok",
        "outputId": "ab643d8b-fbca-4865-c5d7-efc58e9d7336",
        "colab": {
          "base_uri": "https://localhost:8080/"
        }
      },
      "outputs": [
        {
          "output_type": "execute_result",
          "data": {
            "text/plain": [
              "[10, 20, 30, 40, 50, 60]"
            ]
          },
          "metadata": {},
          "execution_count": 89
        }
      ],
      "source": [
        "a"
      ]
    },
    {
      "cell_type": "markdown",
      "metadata": {
        "id": "2Jz7VyKUEzok"
      },
      "source": [
        "but if we do the same in NumPy:"
      ]
    },
    {
      "cell_type": "code",
      "execution_count": 90,
      "metadata": {
        "id": "Hjw08awgEzok"
      },
      "outputs": [],
      "source": [
        "barr[1] = barr[1] + 5"
      ]
    },
    {
      "cell_type": "code",
      "execution_count": 91,
      "metadata": {
        "id": "1QONIcb1Ezok",
        "outputId": "d888b4dc-3ac3-4102-b653-113e8f0a3797",
        "colab": {
          "base_uri": "https://localhost:8080/"
        }
      },
      "outputs": [
        {
          "output_type": "execute_result",
          "data": {
            "text/plain": [
              "array([20, 35, 40])"
            ]
          },
          "metadata": {},
          "execution_count": 91
        }
      ],
      "source": [
        "barr"
      ]
    },
    {
      "cell_type": "code",
      "execution_count": 92,
      "metadata": {
        "id": "fo7NRbRjEzok",
        "outputId": "c29dca12-39b7-48ca-e378-f41cce1b390d",
        "colab": {
          "base_uri": "https://localhost:8080/"
        }
      },
      "outputs": [
        {
          "output_type": "execute_result",
          "data": {
            "text/plain": [
              "array([10, 20, 35, 40, 50, 60])"
            ]
          },
          "metadata": {},
          "execution_count": 92
        }
      ],
      "source": [
        "aarr"
      ]
    },
    {
      "cell_type": "markdown",
      "metadata": {
        "id": "VkhfvKxaEzok"
      },
      "source": [
        "we see that the original array is altered since we modified the slice. This may seem wacky to you, or maybe it doesn't. In any case, it is something you will get used to. For now, just be aware of this. It took me awhile to stop making mistakes because of this.\n",
        "\n",
        "## Functions on arrays\n",
        "\n",
        "NumPy has a wide range of array functons. Here is just a sample.\n",
        "\n",
        "### Unary functions\n",
        "\n",
        "#### absolute value"
      ]
    },
    {
      "cell_type": "code",
      "execution_count": 93,
      "metadata": {
        "id": "u87dTKk2Ezok",
        "outputId": "7609be12-f0a0-40b9-9e48-f583b31b18be",
        "colab": {
          "base_uri": "https://localhost:8080/"
        }
      },
      "outputs": [
        {
          "output_type": "execute_result",
          "data": {
            "text/plain": [
              "array([ 2, 12, 25,  0])"
            ]
          },
          "metadata": {},
          "execution_count": 93
        }
      ],
      "source": [
        "arr = np.array([-2, 12, -25, 0])\n",
        "arr2 = np.abs(arr)\n",
        "arr2"
      ]
    },
    {
      "cell_type": "code",
      "execution_count": 94,
      "metadata": {
        "id": "feUIEQl6Ezok",
        "outputId": "2304ea40-1ec6-4f60-f366-cad8a97af9ea",
        "colab": {
          "base_uri": "https://localhost:8080/"
        }
      },
      "outputs": [
        {
          "output_type": "execute_result",
          "data": {
            "text/plain": [
              "array([[ 2, 12],\n",
              "       [25,  0]])"
            ]
          },
          "metadata": {},
          "execution_count": 94
        }
      ],
      "source": [
        "arr = np.array([[-2, 12], [-25, 0]])\n",
        "arr2 = np.abs(arr)\n",
        "arr2               "
      ]
    },
    {
      "cell_type": "markdown",
      "metadata": {
        "id": "WpT_C-egEzok"
      },
      "source": [
        "#### square"
      ]
    },
    {
      "cell_type": "code",
      "execution_count": 95,
      "metadata": {
        "id": "Iixy0JTjEzok",
        "outputId": "232940af-2303-498c-9ff8-13eb771a1a92",
        "colab": {
          "base_uri": "https://localhost:8080/"
        }
      },
      "outputs": [
        {
          "output_type": "execute_result",
          "data": {
            "text/plain": [
              "array([ 1,  4,  9, 16])"
            ]
          },
          "metadata": {},
          "execution_count": 95
        }
      ],
      "source": [
        "arr = np.array([-1, 2, -3, 4])\n",
        "arr2 = np.square(arr)\n",
        "arr2"
      ]
    },
    {
      "cell_type": "markdown",
      "metadata": {
        "id": "umNpXgcbEzok"
      },
      "source": [
        "#### squareroot"
      ]
    },
    {
      "cell_type": "code",
      "execution_count": 96,
      "metadata": {
        "id": "qieZmImEEzok",
        "outputId": "b317ecb8-b08d-4f42-e87b-61474439c823",
        "colab": {
          "base_uri": "https://localhost:8080/"
        }
      },
      "outputs": [
        {
          "output_type": "execute_result",
          "data": {
            "text/plain": [
              "array([[2., 3.],\n",
              "       [4., 5.]])"
            ]
          },
          "metadata": {},
          "execution_count": 96
        }
      ],
      "source": [
        "arr = np.array([[4, 9], [16, 25]])\n",
        "arr2 = np.sqrt(arr)\n",
        "arr2"
      ]
    },
    {
      "cell_type": "markdown",
      "metadata": {
        "id": "RKuo98Z-Ezok"
      },
      "source": [
        "## Binary functions\n",
        "\n",
        "#### add /subtract / multiply / divide\n"
      ]
    },
    {
      "cell_type": "code",
      "execution_count": 97,
      "metadata": {
        "id": "mXiQuUk-Ezok",
        "outputId": "c5ef0ca7-c1ce-4a94-ddb9-12f7c9a95be1",
        "colab": {
          "base_uri": "https://localhost:8080/"
        }
      },
      "outputs": [
        {
          "output_type": "execute_result",
          "data": {
            "text/plain": [
              "array([[11, 22],\n",
              "       [33, 44]])"
            ]
          },
          "metadata": {},
          "execution_count": 97
        }
      ],
      "source": [
        "arr1 = np.array([[10, 20], [30, 40]])\n",
        "arr2 = np.array([[1, 2], [3, 4]])\n",
        "np.add(arr1, arr2)"
      ]
    },
    {
      "cell_type": "code",
      "execution_count": 98,
      "metadata": {
        "id": "MmoSp7LrEzol",
        "outputId": "32716195-70d8-4d83-e20d-679b0136a681",
        "colab": {
          "base_uri": "https://localhost:8080/"
        }
      },
      "outputs": [
        {
          "output_type": "execute_result",
          "data": {
            "text/plain": [
              "array([[ 9, 18],\n",
              "       [27, 36]])"
            ]
          },
          "metadata": {},
          "execution_count": 98
        }
      ],
      "source": [
        "np.subtract(arr1, arr2)"
      ]
    },
    {
      "cell_type": "code",
      "execution_count": 99,
      "metadata": {
        "id": "5KO88xF4Ezol",
        "outputId": "584a3471-e3bc-4c32-9010-faaf4c45c21f",
        "colab": {
          "base_uri": "https://localhost:8080/"
        }
      },
      "outputs": [
        {
          "output_type": "execute_result",
          "data": {
            "text/plain": [
              "array([[ 10,  40],\n",
              "       [ 90, 160]])"
            ]
          },
          "metadata": {},
          "execution_count": 99
        }
      ],
      "source": [
        "np.multiply(arr1, arr2)"
      ]
    },
    {
      "cell_type": "code",
      "execution_count": 100,
      "metadata": {
        "id": "tmUeanf9Ezol",
        "outputId": "6e259a60-375f-4734-e8ae-a9e130faac79",
        "colab": {
          "base_uri": "https://localhost:8080/"
        }
      },
      "outputs": [
        {
          "output_type": "execute_result",
          "data": {
            "text/plain": [
              "array([[10., 10.],\n",
              "       [10., 10.]])"
            ]
          },
          "metadata": {},
          "execution_count": 100
        }
      ],
      "source": [
        "np.divide(arr1, arr2)"
      ]
    },
    {
      "cell_type": "markdown",
      "metadata": {
        "id": "lWU0zriTEzol"
      },
      "source": [
        "#### maximum / minimum\n"
      ]
    },
    {
      "cell_type": "code",
      "execution_count": 101,
      "metadata": {
        "id": "93YvULTsEzol",
        "outputId": "972757ce-48bd-4c00-ca66-2a110f203f31",
        "colab": {
          "base_uri": "https://localhost:8080/"
        }
      },
      "outputs": [
        {
          "output_type": "execute_result",
          "data": {
            "text/plain": [
              "array([[10, 20],\n",
              "       [30, 40]])"
            ]
          },
          "metadata": {},
          "execution_count": 101
        }
      ],
      "source": [
        "arr1 = np.array([[10, 2], [3, 40]])\n",
        "arr2 = np.array([[1, 20], [30, 4]])\n",
        "np.maximum(arr1, arr2)"
      ]
    },
    {
      "cell_type": "markdown",
      "metadata": {
        "id": "1oKpR6kBEzol"
      },
      "source": [
        "#### these are just examples. There are more unary and binary functions"
      ]
    },
    {
      "cell_type": "markdown",
      "metadata": {
        "id": "CyM9uQLPEzol"
      },
      "source": [
        "## NumPy Uber\n",
        "Let us say we have Uber drivers at various intersections around Austin. We will represent that as a set of x,y coordinates.\n",
        "\n",
        " | Driver |xPos | yPos |\n",
        " | :---: | :---: | :---: |\n",
        " | Ann | 4 | 5 |\n",
        " | Clara | 6 | 6 |\n",
        " | Dora | 3 | 1 |\n",
        " | Erica | 9 | 5 |\n",
        " \n",
        " \n",
        " Now I would like to find the closest driver to a customer who is at 6, 3.\n",
        "\n",
        "\n",
        " ![](https://raw.githubusercontent.com/zacharski/datamining-guide/master/labs/pics/distance.png)\n",
        " And to further define *closest* I am going to use what is called **Manhattan Distance**. Roughly put, Manhattan distance is distance if you followed streets. Ann, for example, is two blocks West of our customer and two blocks north. So the Manhattan distance from Ann to our customer is `2+2` or `4`. \n",
        " \n",
        " First, to make things easy (and because the data in a NumPy array must be of the same type), I will represent the x and y positions in one NumPy array and the driver names in another:"
      ]
    },
    {
      "cell_type": "code",
      "execution_count": 102,
      "metadata": {
        "id": "E80-y7SeEzol",
        "outputId": "0e492aa4-6f6a-4006-bc35-71a55237ebef",
        "colab": {
          "base_uri": "https://localhost:8080/"
        }
      },
      "outputs": [
        {
          "output_type": "execute_result",
          "data": {
            "text/plain": [
              "array([[4, 5],\n",
              "       [6, 6],\n",
              "       [3, 1],\n",
              "       [9, 5]])"
            ]
          },
          "metadata": {},
          "execution_count": 102
        }
      ],
      "source": [
        "locations = np.array([[4, 5], [6, 6], [3, 1], [9,5]])\n",
        "locations"
      ]
    },
    {
      "cell_type": "code",
      "execution_count": 103,
      "metadata": {
        "id": "4lAUNQaIEzol"
      },
      "outputs": [],
      "source": [
        "drivers = np.array([\"Ann\", \"Clara\", \"Dora\", \"Erica\"])"
      ]
    },
    {
      "cell_type": "markdown",
      "metadata": {
        "id": "JwaCW-YWEzol"
      },
      "source": [
        "Our customer is at"
      ]
    },
    {
      "cell_type": "code",
      "execution_count": 104,
      "metadata": {
        "id": "cWVbH5wGEzol"
      },
      "outputs": [],
      "source": [
        "cust = np.array([6, 3])"
      ]
    },
    {
      "cell_type": "markdown",
      "metadata": {
        "id": "G5eekKfBEzol"
      },
      "source": [
        "now we are going to figure out the distance between each of our drivers and the customer"
      ]
    },
    {
      "cell_type": "code",
      "execution_count": 105,
      "metadata": {
        "id": "GOuEAXxuEzol",
        "outputId": "8ed894f7-4dd0-4903-adea-a4fb6d234968",
        "colab": {
          "base_uri": "https://localhost:8080/"
        }
      },
      "outputs": [
        {
          "output_type": "execute_result",
          "data": {
            "text/plain": [
              "array([[-2,  2],\n",
              "       [ 0,  3],\n",
              "       [-3, -2],\n",
              "       [ 3,  2]])"
            ]
          },
          "metadata": {},
          "execution_count": 105
        }
      ],
      "source": [
        "xydiff = locations - cust\n",
        "xydiff"
      ]
    },
    {
      "cell_type": "markdown",
      "metadata": {
        "id": "XJnva8QzEzol"
      },
      "source": [
        "NOTE: displaying the results with `xydiff` isn't a necessary step. I just like seeing intermediate results.\n",
        "\n",
        "Ok. now I am goint to sum the absolute values:"
      ]
    },
    {
      "cell_type": "code",
      "execution_count": 106,
      "metadata": {
        "id": "NyzqcpU_Ezol",
        "outputId": "5d741046-66c8-4f76-acbe-3178baf8163b",
        "colab": {
          "base_uri": "https://localhost:8080/"
        }
      },
      "outputs": [
        {
          "output_type": "execute_result",
          "data": {
            "text/plain": [
              "array([4, 3, 5, 5])"
            ]
          },
          "metadata": {},
          "execution_count": 106
        }
      ],
      "source": [
        "distances =np.abs(xydiff).sum(axis = 1)\n",
        "distances"
      ]
    },
    {
      "cell_type": "markdown",
      "metadata": {
        "id": "OXtYEUKTEzol"
      },
      "source": [
        "So the output is the array `[4, 3, 5, 5]` which shows that Ann is 4 away from our customer; Clara is 3 away and so on.\n",
        "\n",
        "Now I am going to sort these using `argsort`:"
      ]
    },
    {
      "cell_type": "code",
      "execution_count": 107,
      "metadata": {
        "id": "dDwUuh3gEzol",
        "outputId": "a50e6ce6-1b67-4244-9561-d689155050c3",
        "colab": {
          "base_uri": "https://localhost:8080/"
        }
      },
      "outputs": [
        {
          "output_type": "execute_result",
          "data": {
            "text/plain": [
              "array([1, 0, 2, 3])"
            ]
          },
          "metadata": {},
          "execution_count": 107
        }
      ],
      "source": [
        "sorted = np.argsort(distances)\n",
        "sorted"
      ]
    },
    {
      "cell_type": "markdown",
      "metadata": {
        "id": "hDMgmlPjEzol"
      },
      "source": [
        "`argsort` returns an array of sorted indices. So the element at position 1 is the smallest followed by the element at position 0 and so on.\n",
        "\n",
        "Next, I am going to get the first element of that array (in this case 1) and find the name of the driver at that position in the `drivers` array"
      ]
    },
    {
      "cell_type": "code",
      "execution_count": 108,
      "metadata": {
        "id": "gf87Qxt3Ezom",
        "outputId": "a0783665-5e21-45d0-bac9-01bb09649c06",
        "colab": {
          "base_uri": "https://localhost:8080/",
          "height": 37
        }
      },
      "outputs": [
        {
          "output_type": "execute_result",
          "data": {
            "text/plain": [
              "'Clara'"
            ],
            "application/vnd.google.colaboratory.intrinsic+json": {
              "type": "string"
            }
          },
          "metadata": {},
          "execution_count": 108
        }
      ],
      "source": [
        "drivers[sorted[0]]"
      ]
    },
    {
      "cell_type": "markdown",
      "metadata": {
        "id": "tNtIvsYzEzom"
      },
      "source": [
        "![](https://raw.githubusercontent.com/zacharski/datamining-guide/master/labs/pics/torchdivide.png)\n",
        "\n",
        "\n",
        "# <font color='#EE4C2C'>You Try ...</font> \n",
        "Ok, time to get coding\n",
        "\n",
        "## <font color='#EE4C2C'>2. a function</font> \n",
        "\n",
        "Can you put all the above in a function. that takes 3 arguments, the location array, the array containing the names of the drivers, and the array containing the location of the customer. It should return the name of the closest driver.\n"
      ]
    },
    {
      "cell_type": "code",
      "execution_count": 109,
      "metadata": {
        "id": "P8-RIo0XEzom",
        "outputId": "5e95205c-44a2-4ac9-abf7-ca7bdc6b8755",
        "colab": {
          "base_uri": "https://localhost:8080/"
        }
      },
      "outputs": [
        {
          "output_type": "stream",
          "name": "stdout",
          "text": [
            "Clara\n"
          ]
        }
      ],
      "source": [
        "def findDriver(distanceArr, driversArr, customerArr):\n",
        "   xydiff = distanceArr - customerArr\n",
        "   distances =np.abs(xydiff).sum(axis = 1)\n",
        "   sorted = np.argsort(distances)\n",
        "   return drivers[sorted[0]]\n",
        "print(findDriver(locations, drivers, cust)) # this should return Clara"
      ]
    },
    {
      "cell_type": "markdown",
      "metadata": {
        "id": "cVYaKLu1Ezom"
      },
      "source": [
        "### CONGRATULATIONS\n",
        "\n",
        "Even though this is just an intro to NumPy, I am going to throw some math at you. So far we have been looking at a two dimensional example, x and y (or North-South and East-West) and our distance formula for the distance, Dist between Ann, A and Customer C is\n",
        "\n",
        "$$ DIST_{AC} = |A_x - C_x | + |A_y - C_y | $$\n",
        "\n",
        "Now I am going to warp this a bit. In this example, each driver is represented by an array (as is the customer) So, Ann is represented by `[1,2]` and the customer by `[3,4]`. So Ann's 0th element is 1 and the customer's 0th element is 3. And, sorry, computer science people start counting at 0 but math people (and all other normal people) start at 1 so we  can rewrite the above formula as:\n",
        "\n",
        "$$ DIST_{AC} = |A_0 - C_0 | + |A_1 - C_1 | $$\n",
        "\n",
        "That's the distance formula for Ann and the Customer. We can make the formula by saying the distance between any two people, let's call them *x* and *y* is\n",
        "\n",
        "\n",
        "$$ DIST_{xy} = |x_0 - y_0 | + |x_1 - y_1 | $$\n",
        "\n",
        "That is the formula for  2 dimensional Manhattan Distance. We can imagine a three dimensional case.  \n",
        "\n",
        "$$ DIST_{xy} = |x_0 - y_0 | + |x_1 - y_1 | + |x_2 - y_2 | $$\n",
        "\n",
        "and we can generalize the formula to the n-dimensional case.\n",
        " \n",
        "$$ DIST_{xy}=\\sum_{i=0}^n |x_i - y_i| $$\n",
        "\n",
        "Just in time for a five dimensional example:\n",
        "\n",
        "![](https://raw.githubusercontent.com/zacharski/datamining-guide/master/labs/pics/PyDivideTwo.png)\n",
        "\n",
        "\n",
        "\n",
        "## <font color='#EE4C2C'>3. The Amazing 5D Music example</font> \n",
        "\n",
        "![](https://raw.githubusercontent.com/zacharski/datamining-guide/master/labs/pics/artists.png)\n",
        "\n",
        "Guests went into a listening booth and rated the following tunes:\n",
        "\n",
        "* [Janelle Monae Tightrope](https://www.youtube.com/watch?v=pwnefUaKCbc)\n",
        "* [Major Lazer - Cold Water](https://www.youtube.com/watch?v=nBtDsQ4fhXY)\n",
        "* [Tim McGraw - Humble & Kind](https://www.youtube.com/watch?v=awzNHuGqoMc)\n",
        "* [Maren Morris - My Church](https://www.youtube.com/watch?v=ouWQ25O-Mcg)\n",
        "* [Hailee Steinfeld - Starving](https://www.youtube.com/watch?v=xwjwCFZpdns)\n",
        "\n",
        "\n",
        "Here are the results:\n",
        "\n",
        "| Guest  | Janelle Monae  | Major Lazer  | Tim McGraw  |  Maren Morris | Hailee Steinfeld| \n",
        "|---|---|---|---|---|---|\n",
        "|  Ann | 4  |  5 | 2  |  1 | 3 |\n",
        "| Ben  |  3 |  1 |  5 | 4  | 2|\n",
        "| Jordyn  | 5  |  5 | 2  | 2  | 3|\n",
        "|  Sam | 4 | 1 | 4 | 4 | 1|\n",
        "| Hyunseo | 1 | 1 | 5 | 4 | 1 |\n",
        "| Ahmed | 4 | 5 | 3 |  3 | 1 |\n",
        "\n",
        "So Ann, for example, really liked Major Lazer and Janelle Monae but didn't care much for Maren Morris.\n",
        "\n",
        "Let's set up a few numpy arrays.\n"
      ]
    },
    {
      "cell_type": "code",
      "execution_count": 110,
      "metadata": {
        "id": "PQJ116HWEzom"
      },
      "outputs": [],
      "source": [
        "customers = np.array([[4, 5, 2, 1, 3],\n",
        "                      [3, 1, 5, 4, 2],\n",
        "                      [5, 5, 2, 2, 3],\n",
        "                      [4, 1, 4, 4, 1], \n",
        "                      [1, 1, 5, 4, 1],\n",
        "                      [4, 5, 3, 3, 1]])\n",
        "\n",
        "customerNames = np.array([\"Ann\", \"Ben\", 'Jordyn', \"Sam\", \"Hyunseo\", \"Ahmed\"])\n",
        "\n"
      ]
    },
    {
      "cell_type": "markdown",
      "metadata": {
        "id": "w1TukNeeEzom"
      },
      "source": [
        "Now let's set up a few new customers:"
      ]
    },
    {
      "cell_type": "code",
      "execution_count": 111,
      "metadata": {
        "id": "8To125u7Ezom"
      },
      "outputs": [],
      "source": [
        "mikaela = np.array([3, 2, 4, 5, 4])\n",
        "brandon = np.array([4, 5, 1, 2, 3])"
      ]
    },
    {
      "cell_type": "markdown",
      "metadata": {
        "id": "0g44IoKOEzom"
      },
      "source": [
        "Now we would like to determine  which of our current customers is closest to Mikaela and which to Brandon.\n",
        "\n",
        "\n",
        "### Work to be done ...\n",
        "Can you write a function findClosest that takes 3 arguments: customers, customerNames, and an array representing one customer's ratings and returns the name of the closest customer?\n",
        "\n",
        "Let's break this down a bit.\n",
        "\n",
        "1. Which line in the NumPy Uber section above will create a new array which is the result of subtracting the Mikaela array from each row of the customers array resulting in\n",
        "\n",
        "```\n",
        "array([[ 1,  3, -2, -4, -1],\n",
        "       [ 0, -1,  1, -1, -2],\n",
        "       [ 2,  3, -2, -3, -1],\n",
        "       [ 1, -1,  0, -1, -3],\n",
        "       [-2, -1,  1, -1, -3],\n",
        "       [ 1,  3, -1, -2, -3]])\n",
        "       ```\n"
      ]
    },
    {
      "cell_type": "code",
      "execution_count": 120,
      "metadata": {
        "id": "FJeaxo5wEzom",
        "outputId": "ccbf910a-61e4-400c-9e1e-a744d72061b7",
        "colab": {
          "base_uri": "https://localhost:8080/"
        }
      },
      "outputs": [
        {
          "output_type": "execute_result",
          "data": {
            "text/plain": [
              "array([[ 1,  3, -2, -4, -1],\n",
              "       [ 0, -1,  1, -1, -2],\n",
              "       [ 2,  3, -2, -3, -1],\n",
              "       [ 1, -1,  0, -1, -3],\n",
              "       [-2, -1,  1, -1, -3],\n",
              "       [ 1,  3, -1, -2, -3]])"
            ]
          },
          "metadata": {},
          "execution_count": 120
        }
      ],
      "source": [
        "# TODO\n",
        "diff = customers - mikaela\n",
        "diff\n"
      ]
    },
    {
      "cell_type": "markdown",
      "metadata": {
        "id": "YjkM1gUFEzom"
      },
      "source": [
        "2. Which line above will take the array you created and generate a single integer distance for each row representing how far away that row is from Mikaela?  The results will look like:\n",
        "\n",
        "```\n",
        "    array([11,  5, 11,  6,  8, 10])\n",
        "```"
      ]
    },
    {
      "cell_type": "code",
      "execution_count": 121,
      "metadata": {
        "id": "5TsRe16eEzom",
        "outputId": "a862ac61-633e-4174-84a3-21fddd3c9816",
        "colab": {
          "base_uri": "https://localhost:8080/"
        }
      },
      "outputs": [
        {
          "output_type": "execute_result",
          "data": {
            "text/plain": [
              "array([11,  5, 11,  6,  8, 10])"
            ]
          },
          "metadata": {},
          "execution_count": 121
        }
      ],
      "source": [
        "# TO DO \n",
        "distances = np.abs(diff).sum(axis = 1)\n",
        "distances"
      ]
    },
    {
      "cell_type": "markdown",
      "metadata": {
        "id": "tKabiJtMEzom"
      },
      "source": [
        "Finally, we want a sorted array of indices, the zeroth element of that array will be the closest row to Mikaela, the next element will be the next closest and so on. The result should be\n",
        "\n",
        "```\n",
        "array([1, 3, 4, 5, 0, 2])\n",
        "```\n"
      ]
    },
    {
      "cell_type": "code",
      "execution_count": 123,
      "metadata": {
        "id": "8wrA4f3aEzom",
        "outputId": "845d7a57-631f-472a-a656-abaf35b357d2",
        "colab": {
          "base_uri": "https://localhost:8080/"
        }
      },
      "outputs": [
        {
          "output_type": "execute_result",
          "data": {
            "text/plain": [
              "array([1, 3, 4, 5, 0, 2])"
            ]
          },
          "metadata": {},
          "execution_count": 123
        }
      ],
      "source": [
        "# TO DO\n",
        "sorted = np.argsort(distances)\n",
        "sorted"
      ]
    },
    {
      "cell_type": "markdown",
      "metadata": {
        "id": "HNTQ0Q45Ezom"
      },
      "source": [
        "Finally we need the name of the person that is the closest. "
      ]
    },
    {
      "cell_type": "code",
      "execution_count": 124,
      "metadata": {
        "id": "MsHOrvoDEzom",
        "colab": {
          "base_uri": "https://localhost:8080/",
          "height": 37
        },
        "outputId": "eead3524-a5e5-4d66-9788-7c6db46caa60"
      },
      "outputs": [
        {
          "output_type": "execute_result",
          "data": {
            "text/plain": [
              "'Ben'"
            ],
            "application/vnd.google.colaboratory.intrinsic+json": {
              "type": "string"
            }
          },
          "metadata": {},
          "execution_count": 124
        }
      ],
      "source": [
        "# TO DO\n",
        "customerNames[sorted[0]]"
      ]
    },
    {
      "cell_type": "markdown",
      "metadata": {
        "id": "xGgll_0qEzom"
      },
      "source": [
        "Okay, time to put it all together. Can you combine all the code you wrote above to finish the following function? So x is the new person and we want to find the closest customer to x."
      ]
    },
    {
      "cell_type": "code",
      "execution_count": 128,
      "metadata": {
        "id": "rk6bFcJHEzom",
        "outputId": "3804c264-8436-467f-99b0-e208b9f7de9a",
        "colab": {
          "base_uri": "https://localhost:8080/"
        }
      },
      "outputs": [
        {
          "output_type": "stream",
          "name": "stdout",
          "text": [
            "Ben\n",
            "Ann\n"
          ]
        }
      ],
      "source": [
        "def findClosest(customers, customerNames, x):\n",
        "   diff = customers - x\n",
        "   distances =np.abs(diff).sum(axis = 1)\n",
        "   sorted = np.argsort(distances)\n",
        "   return customerNames[sorted[0]]\n",
        "\n",
        "\n",
        "print(findClosest(customers, customerNames, mikaela)) # Should print Ben\n",
        "print(findClosest(customers, customerNames, brandon)) # Should print Ann"
      ]
    },
    {
      "cell_type": "markdown",
      "metadata": {
        "id": "feWzi-fVEzon"
      },
      "source": [
        "![](https://raw.githubusercontent.com/zacharski/datamining-guide/master/labs/pics/PyDivideTwo.png)\n",
        "## <font color='#EE4C2C'>4. Numpy drones</font> \n",
        "\n",
        "![](https://raw.githubusercontent.com/zacharski/datamining-guide/master/labs/pics/drone2.png)\n",
        "\n",
        "We are going to start with the same array we did way up above:\n",
        "\n",
        " \n",
        " | Drone |xPos | yPos |\n",
        " | :---: | :---: | :---: |\n",
        " | wing_1a | 4 | 5 |\n",
        " | wing_2a | 6 | 6 |\n",
        " | wing_3a | 3 | 1 |\n",
        " | wing_4a | 9 | 5 |\n",
        " \n",
        " But this time, instead of Uber drivers, think of these as positions of [Alphabet's Wing delivery drones](https://wing.com/). \n",
        " Now we would like to find the closest drone to a customer who is at 7, 1.\n",
        " \n",
        "With the previous example we used Manhattan Distance.  With drones, we can compute the distance as the crow flies -- or Euclidean Distance.  We probably learned how to do this way back in 7th grade when we learned the Pythagorean Theorem which states:\n",
        "\n",
        "$$c^2 = a^2 + b^2$$\n",
        "\n",
        "Where *c* is the hypotenuse and *a* and *b* are the two other sides. So, if we want to find *c*:\n",
        "\n",
        "$$c = \\sqrt{a^2 + b^2}$$\n",
        "\n",
        "\n",
        "If we want to find the distance between the drone and a customer, *x* and *y* in the formula becomes\n",
        "\n",
        "$$Dist_{xy} = \\sqrt{(x_1-y_1)^2 + (x_2-y_2)^2}$$\n",
        "\n",
        "and for `wing_1a` who is at `[4,5]` and our customer who is at `[7,1]` then the formula becomes:\n",
        "\n",
        "$$Dist_{xy} = \\sqrt{(x_1-y_1)^2 + (x_2-y_2)^2} = \\sqrt{(4-7)^2 + (5-1)^2} =\\sqrt{-3^2 + 4^2}  = \\sqrt{9 + 16} = \\sqrt{25} = 5$$\n",
        "\n",
        "Sweet!  And to generalize this distance formula:\n",
        "\n",
        "$$Dist_{xy} = \\sqrt{(x_1-y_1)^2 + (x_2-y_2)^2}$$\n",
        "\n",
        "to n-dimensions:\n",
        "\n",
        "$$Dist_{xy} = \\sum_{i=1}^n{\\sqrt{(x_i-y_i)^2}}$$\n",
        "\n",
        "\n",
        "\n",
        "\n",
        "\n",
        "Can you write a function euclidean that takes 3 arguments: droneLocation, droneNames, and an array representing one customer's position and returns the name of the closest drone?\n",
        "\n",
        "First, a helpful hint:\n"
      ]
    },
    {
      "cell_type": "code",
      "execution_count": 129,
      "metadata": {
        "id": "uVVU0kiLEzon",
        "outputId": "4773fd2c-7ee1-4139-a039-e927cf0660df",
        "colab": {
          "base_uri": "https://localhost:8080/"
        }
      },
      "outputs": [
        {
          "output_type": "execute_result",
          "data": {
            "text/plain": [
              "array([ 1,  4,  9, 16])"
            ]
          },
          "metadata": {},
          "execution_count": 129
        }
      ],
      "source": [
        "arr = np.array([-1, 2, -3, 4])\n",
        "arr2 = np.square(arr)\n",
        "arr2"
      ]
    },
    {
      "cell_type": "code",
      "execution_count": 140,
      "metadata": {
        "id": "-jL8MiMeEzon",
        "outputId": "02e4b4cd-1801-4d71-dab7-8e4f62f62120",
        "colab": {
          "base_uri": "https://localhost:8080/",
          "height": 37
        }
      },
      "outputs": [
        {
          "output_type": "execute_result",
          "data": {
            "text/plain": [
              "'wing_2a'"
            ],
            "application/vnd.google.colaboratory.intrinsic+json": {
              "type": "string"
            }
          },
          "metadata": {},
          "execution_count": 140
        }
      ],
      "source": [
        "locations = np.array([[4, 5], [6, 6], [3, 1], [9,5]])\n",
        "drones = np.array([\"wing_1a\", \"wing_2a\", \"wing_3a\", \"wing_4a\"])\n",
        "cust = np.array([6, 3])\n",
        "\n",
        "def euclidean(droneLocation, droneNames, x):\n",
        "   diff = np.sqrt(np.square(droneLocation-x))\n",
        "   distances = diff.sum(axis = 1)\n",
        "   sorted = np.argsort(distances)\n",
        "   return droneNames[sorted[0]]\n",
        "euclidean(locations, drones, cust) "
      ]
    },
    {
      "cell_type": "code",
      "execution_count": 119,
      "metadata": {
        "id": "PUgvcOweEzon"
      },
      "outputs": [],
      "source": [
        "#TBD"
      ]
    }
  ],
  "metadata": {
    "anaconda-cloud": {},
    "colab": {
      "provenance": [],
      "include_colab_link": true
    },
    "kernelspec": {
      "display_name": "Python 3 (ipykernel)",
      "language": "python",
      "name": "python3"
    },
    "language_info": {
      "codemirror_mode": {
        "name": "ipython",
        "version": 3
      },
      "file_extension": ".py",
      "mimetype": "text/x-python",
      "name": "python",
      "nbconvert_exporter": "python",
      "pygments_lexer": "ipython3",
      "version": "3.9.12"
    }
  },
  "nbformat": 4,
  "nbformat_minor": 0
}